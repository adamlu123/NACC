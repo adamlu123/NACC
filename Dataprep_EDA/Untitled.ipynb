{
 "cells": [
  {
   "cell_type": "code",
   "execution_count": 4,
   "metadata": {
    "collapsed": false
   },
   "outputs": [
    {
     "name": "stdout",
     "output_type": "stream",
     "text": [
      "2.7.12 |Anaconda custom (x86_64)| (default, Jul  2 2016, 17:43:17) \n",
      "[GCC 4.2.1 (Based on Apple Inc. build 5658) (LLVM build 2336.11.00)]\n"
     ]
    }
   ],
   "source": [
    "import pandas as pd\n",
    "import numpy as np\n",
    "import collections\n",
    "import sys\n",
    "print (sys.version)"
   ]
  },
  {
   "cell_type": "code",
   "execution_count": 2,
   "metadata": {
    "collapsed": false
   },
   "outputs": [],
   "source": [
    "df = pd.read_sas(\"/Users/admin/github_project/NACC_dt/grill11162017.sas7bdat\")\n"
   ]
  },
  {
   "cell_type": "code",
   "execution_count": 13,
   "metadata": {
    "collapsed": false
   },
   "outputs": [],
   "source": [
    "asian = df.loc[df['RACE'] == 5]\n",
    "white = df.loc[df['RACE'] == 1]"
   ]
  },
  {
   "cell_type": "code",
   "execution_count": 7,
   "metadata": {
    "collapsed": false
   },
   "outputs": [
    {
     "data": {
      "text/plain": [
       "Counter({1.0: 26620,\n",
       "         2.0: 3516,\n",
       "         3.0: 231,\n",
       "         4.0: 30,\n",
       "         5.0: 592,\n",
       "         50.0: 758,\n",
       "         99.0: 90})"
      ]
     },
     "execution_count": 7,
     "metadata": {},
     "output_type": "execute_result"
    }
   ],
   "source": [
    "collections.Counter(df0) # Q 9: 1.white 2.black 3. indian 4. hawaii 5=asian 50. other 99 NA"
   ]
  },
  {
   "cell_type": "code",
   "execution_count": 12,
   "metadata": {
    "collapsed": false
   },
   "outputs": [
    {
     "data": {
      "text/plain": [
       "Counter({-4.0: 19, 1.0: 99, 2.0: 58, 3.0: 13, 8.0: 403})"
      ]
     },
     "execution_count": 12,
     "metadata": {},
     "output_type": "execute_result"
    }
   ],
   "source": [
    "x = asian['DEPDSEV'].values\n",
    "collections.Counter(x)"
   ]
  },
  {
   "cell_type": "code",
   "execution_count": 14,
   "metadata": {
    "collapsed": false
   },
   "outputs": [
    {
     "data": {
      "text/plain": [
       "Counter({-4.0: 819, 1.0: 5751, 2.0: 2618, 3.0: 507, 8.0: 16925})"
      ]
     },
     "execution_count": 14,
     "metadata": {},
     "output_type": "execute_result"
    }
   ],
   "source": [
    "x = white['DEPDSEV'].values\n",
    "collections.Counter(x)"
   ]
  },
  {
   "cell_type": "code",
   "execution_count": 5,
   "metadata": {
    "collapsed": false
   },
   "outputs": [
    {
     "data": {
      "text/html": [
       "<div>\n",
       "<table border=\"1\" class=\"dataframe\">\n",
       "  <thead>\n",
       "    <tr style=\"text-align: right;\">\n",
       "      <th></th>\n",
       "      <th>NACCADC</th>\n",
       "      <th>NACCID</th>\n",
       "      <th>FORMVER</th>\n",
       "      <th>PACKET</th>\n",
       "      <th>NACCVNUM</th>\n",
       "      <th>VISITNUM</th>\n",
       "      <th>VISITMO</th>\n",
       "      <th>VISITDAY</th>\n",
       "      <th>VISITYR</th>\n",
       "      <th>NACCAVST</th>\n",
       "      <th>...</th>\n",
       "      <th>A1VISITYR</th>\n",
       "      <th>NACCACTV</th>\n",
       "      <th>NACCNURP</th>\n",
       "      <th>NACCNRMO</th>\n",
       "      <th>NACCNRDY</th>\n",
       "      <th>NACCNRYR</th>\n",
       "      <th>NACCNOVS</th>\n",
       "      <th>NACCDSMO</th>\n",
       "      <th>NACCDSDY</th>\n",
       "      <th>NACCDSYR</th>\n",
       "    </tr>\n",
       "  </thead>\n",
       "  <tbody>\n",
       "    <tr>\n",
       "      <th>0</th>\n",
       "      <td>289.0</td>\n",
       "      <td>NACC000385</td>\n",
       "      <td>1.0</td>\n",
       "      <td>I</td>\n",
       "      <td>1.0</td>\n",
       "      <td>1</td>\n",
       "      <td>11.0</td>\n",
       "      <td>8.0</td>\n",
       "      <td>2006.0</td>\n",
       "      <td>7.0</td>\n",
       "      <td>...</td>\n",
       "      <td>2006.0</td>\n",
       "      <td>0.0</td>\n",
       "      <td>0.0</td>\n",
       "      <td>88.0</td>\n",
       "      <td>88.0</td>\n",
       "      <td>8888.0</td>\n",
       "      <td>1.0</td>\n",
       "      <td>88.0</td>\n",
       "      <td>88.0</td>\n",
       "      <td>8888.0</td>\n",
       "    </tr>\n",
       "    <tr>\n",
       "      <th>1</th>\n",
       "      <td>289.0</td>\n",
       "      <td>NACC000385</td>\n",
       "      <td>2.0</td>\n",
       "      <td>F</td>\n",
       "      <td>2.0</td>\n",
       "      <td>2</td>\n",
       "      <td>3.0</td>\n",
       "      <td>19.0</td>\n",
       "      <td>2008.0</td>\n",
       "      <td>7.0</td>\n",
       "      <td>...</td>\n",
       "      <td>2008.0</td>\n",
       "      <td>0.0</td>\n",
       "      <td>0.0</td>\n",
       "      <td>88.0</td>\n",
       "      <td>88.0</td>\n",
       "      <td>8888.0</td>\n",
       "      <td>1.0</td>\n",
       "      <td>88.0</td>\n",
       "      <td>88.0</td>\n",
       "      <td>8888.0</td>\n",
       "    </tr>\n",
       "    <tr>\n",
       "      <th>2</th>\n",
       "      <td>289.0</td>\n",
       "      <td>NACC000385</td>\n",
       "      <td>2.0</td>\n",
       "      <td>F</td>\n",
       "      <td>3.0</td>\n",
       "      <td>3</td>\n",
       "      <td>3.0</td>\n",
       "      <td>4.0</td>\n",
       "      <td>2009.0</td>\n",
       "      <td>7.0</td>\n",
       "      <td>...</td>\n",
       "      <td>2009.0</td>\n",
       "      <td>0.0</td>\n",
       "      <td>0.0</td>\n",
       "      <td>88.0</td>\n",
       "      <td>88.0</td>\n",
       "      <td>8888.0</td>\n",
       "      <td>1.0</td>\n",
       "      <td>88.0</td>\n",
       "      <td>88.0</td>\n",
       "      <td>8888.0</td>\n",
       "    </tr>\n",
       "    <tr>\n",
       "      <th>3</th>\n",
       "      <td>289.0</td>\n",
       "      <td>NACC000385</td>\n",
       "      <td>2.0</td>\n",
       "      <td>F</td>\n",
       "      <td>4.0</td>\n",
       "      <td>4</td>\n",
       "      <td>4.0</td>\n",
       "      <td>21.0</td>\n",
       "      <td>2010.0</td>\n",
       "      <td>7.0</td>\n",
       "      <td>...</td>\n",
       "      <td>2010.0</td>\n",
       "      <td>0.0</td>\n",
       "      <td>0.0</td>\n",
       "      <td>88.0</td>\n",
       "      <td>88.0</td>\n",
       "      <td>8888.0</td>\n",
       "      <td>1.0</td>\n",
       "      <td>88.0</td>\n",
       "      <td>88.0</td>\n",
       "      <td>8888.0</td>\n",
       "    </tr>\n",
       "    <tr>\n",
       "      <th>4</th>\n",
       "      <td>289.0</td>\n",
       "      <td>NACC000385</td>\n",
       "      <td>2.0</td>\n",
       "      <td>F</td>\n",
       "      <td>5.0</td>\n",
       "      <td>5</td>\n",
       "      <td>1.0</td>\n",
       "      <td>28.0</td>\n",
       "      <td>2011.0</td>\n",
       "      <td>7.0</td>\n",
       "      <td>...</td>\n",
       "      <td>2011.0</td>\n",
       "      <td>0.0</td>\n",
       "      <td>0.0</td>\n",
       "      <td>88.0</td>\n",
       "      <td>88.0</td>\n",
       "      <td>8888.0</td>\n",
       "      <td>1.0</td>\n",
       "      <td>88.0</td>\n",
       "      <td>88.0</td>\n",
       "      <td>8888.0</td>\n",
       "    </tr>\n",
       "  </tbody>\n",
       "</table>\n",
       "<p>5 rows × 431 columns</p>\n",
       "</div>"
      ],
      "text/plain": [
       "   NACCADC      NACCID  FORMVER PACKET  NACCVNUM VISITNUM  VISITMO  VISITDAY  \\\n",
       "0    289.0  NACC000385      1.0      I       1.0        1     11.0       8.0   \n",
       "1    289.0  NACC000385      2.0      F       2.0        2      3.0      19.0   \n",
       "2    289.0  NACC000385      2.0      F       3.0        3      3.0       4.0   \n",
       "3    289.0  NACC000385      2.0      F       4.0        4      4.0      21.0   \n",
       "4    289.0  NACC000385      2.0      F       5.0        5      1.0      28.0   \n",
       "\n",
       "   VISITYR  NACCAVST    ...     A1VISITYR  NACCACTV  NACCNURP  NACCNRMO  \\\n",
       "0   2006.0       7.0    ...        2006.0       0.0       0.0      88.0   \n",
       "1   2008.0       7.0    ...        2008.0       0.0       0.0      88.0   \n",
       "2   2009.0       7.0    ...        2009.0       0.0       0.0      88.0   \n",
       "3   2010.0       7.0    ...        2010.0       0.0       0.0      88.0   \n",
       "4   2011.0       7.0    ...        2011.0       0.0       0.0      88.0   \n",
       "\n",
       "   NACCNRDY  NACCNRYR  NACCNOVS  NACCDSMO  NACCDSDY  NACCDSYR  \n",
       "0      88.0    8888.0       1.0      88.0      88.0    8888.0  \n",
       "1      88.0    8888.0       1.0      88.0      88.0    8888.0  \n",
       "2      88.0    8888.0       1.0      88.0      88.0    8888.0  \n",
       "3      88.0    8888.0       1.0      88.0      88.0    8888.0  \n",
       "4      88.0    8888.0       1.0      88.0      88.0    8888.0  \n",
       "\n",
       "[5 rows x 431 columns]"
      ]
     },
     "execution_count": 5,
     "metadata": {},
     "output_type": "execute_result"
    }
   ],
   "source": [
    "df.head()"
   ]
  },
  {
   "cell_type": "code",
   "execution_count": null,
   "metadata": {
    "collapsed": true
   },
   "outputs": [],
   "source": []
  }
 ],
 "metadata": {
  "anaconda-cloud": {},
  "kernelspec": {
   "display_name": "Python [Root]",
   "language": "python",
   "name": "Python [Root]"
  },
  "language_info": {
   "codemirror_mode": {
    "name": "ipython",
    "version": 2
   },
   "file_extension": ".py",
   "mimetype": "text/x-python",
   "name": "python",
   "nbconvert_exporter": "python",
   "pygments_lexer": "ipython2",
   "version": "2.7.12"
  }
 },
 "nbformat": 4,
 "nbformat_minor": 0
}
