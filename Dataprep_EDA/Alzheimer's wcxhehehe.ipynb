{
 "cells": [
  {
   "cell_type": "code",
   "execution_count": 60,
   "metadata": {
    "collapsed": true
   },
   "outputs": [],
   "source": [
    "import pandas as pd\n",
    "import numpy as np\n",
    "import matplotlib.pyplot as plt  \n",
    "%matplotlib inline\n",
    "\n",
    "import collections"
   ]
  },
  {
   "cell_type": "code",
   "execution_count": 9,
   "metadata": {
    "collapsed": true
   },
   "outputs": [],
   "source": [
    "data = pd.read_sas('data/grill11162017.sas7bdat')"
   ]
  },
  {
   "cell_type": "code",
   "execution_count": 10,
   "metadata": {},
   "outputs": [
    {
     "name": "stdout",
     "output_type": "stream",
     "text": [
      "(31837, 431)\n"
     ]
    }
   ],
   "source": [
    "print data.shape"
   ]
  },
  {
   "cell_type": "code",
   "execution_count": 20,
   "metadata": {},
   "outputs": [
    {
     "name": "stdout",
     "output_type": "stream",
     "text": [
      "[u'NACCADC', u'NACCID', u'FORMVER', u'PACKET', u'NACCVNUM', u'VISITNUM', u'VISITMO', u'VISITDAY', u'VISITYR', u'NACCAVST', u'NACCNVST', u'NACCDAYS', u'NACCFDYS', u'NACCREAS', u'NACCREFR', u'BIRTHMO', u'BIRTHYR', u'SEX', u'HISPANIC', u'HISPOR', u'HISPORX', u'RACE', u'RACEX', u'RACESEC', u'RACESECX', u'RACETER', u'RACETERX', u'PRIMLANG', u'PRIMLANX', u'EDUC', u'MARISTAT', u'NACCLIVS', u'INDEPEND', u'RESIDENC', u'HANDED', u'NACCAGE', u'NACCAGEB', u'NACCNIHR', u'INBIRMO', u'INBIRYR', u'INSEX', u'NEWINF', u'INHISP', u'INHISPOR', u'INHISPOX', u'INRACE', u'INRACEX', u'INRASEC', u'INRASECX', u'INRATER', u'INRATERX', u'INEDUC', u'INRELTO', u'INRELTOX', u'INKNOWN', u'INLIVWTH', u'INVISITS', u'INCALLS', u'INRELY', u'NACCNINR', u'ANYMEDS', u'DRUG1', u'DRUG2', u'DRUG3', u'DRUG4', u'DRUG5', u'DRUG6', u'DRUG7', u'DRUG8', u'DRUG9', u'DRUG10', u'DRUG11', u'DRUG12', u'DRUG13', u'DRUG14', u'DRUG15', u'DRUG16', u'DRUG17', u'DRUG18', u'DRUG19', u'DRUG20', u'DRUG21', u'DRUG22', u'DRUG23', u'DRUG24', u'DRUG25', u'DRUG26', u'DRUG27', u'DRUG28', u'DRUG29', u'DRUG30', u'DRUG31', u'DRUG32', u'DRUG33', u'DRUG34', u'DRUG35', u'DRUG36', u'DRUG37', u'DRUG38', u'DRUG39', u'DRUG40', u'NACCAMD', u'NACCAHTN', u'NACCHTNC', u'NACCACEI', u'NACCAAAS', u'NACCBETA', u'NACCCCBS', u'NACCDIUR', u'NACCVASD', u'NACCANGI', u'NACCLIPL', u'NACCNSD', u'NACCAC', u'NACCADEP', u'NACCAPSY', u'NACCAANX', u'NACCADMD', u'NACCPDMD', u'NACCEMD', u'NACCEPMD', u'NACCDBMD', u'MEMORY', u'ORIENT', u'JUDGMENT', u'COMMUN', u'HOMEHOBB', u'PERSCARE', u'CDRSUM', u'CDRGLOB', u'COMPORT', u'CDRLANG', u'NPIQINF', u'NPIQINFX', u'DEL', u'DELSEV', u'HALL', u'HALLSEV', u'AGIT', u'AGITSEV', u'DEPD', u'DEPDSEV', u'ANX', u'ANXSEV', u'ELAT', u'ELATSEV', u'APA', u'APASEV', u'DISN', u'DISNSEV', u'IRR', u'IRRSEV', u'MOT', u'MOTSEV', u'NITE', u'NITESEV', u'APP', u'APPSEV', u'BILLS', u'TAXES', u'SHOPPING', u'GAMES', u'STOVE', u'MEALPREP', u'EVENTS', u'PAYATTN', u'REMDATES', u'TRAVEL', u'NACCNREX', u'NORMEXAM', u'FOCLDEF', u'GAITDIS', u'EYEMOVE', u'PARKSIGN', u'RESTTRL', u'RESTTRR', u'SLOWINGL', u'SLOWINGR', u'RIGIDL', u'RIGIDR', u'BRADY', u'PARKGAIT', u'POSTINST', u'CVDSIGNS', u'CORTDEF', u'SIVDFIND', u'CVDMOTL', u'CVDMOTR', u'CORTVISL', u'CORTVISR', u'SOMATL', u'SOMATR', u'POSTCORT', u'PSPCBS', u'EYEPSP', u'DYSPSP', u'AXIALPSP', u'GAITPSP', u'APRAXSP', u'APRAXL', u'APRAXR', u'CORTSENL', u'CORTSENR', u'ATAXL', u'ATAXR', u'ALIENLML', u'ALIENLMR', u'DYSTONL', u'DYSTONR', u'MYOCLLT', u'MYOCLRT', u'ALSFIND', u'GAITNPH', u'OTHNEUR', u'OTHNEURX', u'B9CHG', u'DECSUB', u'DECIN', u'DECCLIN', u'DECCLCOG', u'COGMEM', u'COGORI', u'COGJUDG', u'COGLANG', u'COGVIS', u'COGATTN', u'COGFLUC', u'COGFLAGO', u'COGOTHR', u'COGOTHRX', u'NACCCOGF', u'NACCCGFX', u'COGMODE', u'COGMODEX', u'DECAGE', u'DECCLBE', u'BEAPATHY', u'BEDEP', u'BEVHALL', u'BEVWELL', u'BEVHAGO', u'BEAHALL', u'BEDEL', u'BEDISIN', u'BEIRRIT', u'BEAGIT', u'BEPERCH', u'BEREM', u'BEREMAGO', u'BEANX', u'BEOTHR', u'BEOTHRX', u'NACCBEHF', u'NACCBEFX', u'BEMODE', u'BEMODEX', u'BEAGE', u'DECCLMOT', u'MOGAIT', u'MOFALLS', u'MOTREM', u'MOSLOW', u'NACCMOTF', u'MOMODE', u'MOMODEX', u'MOMOPARK', u'PARKAGE', u'MOMOALS', u'ALSAGE', u'MOAGE', u'COURSE', u'FRSTCHG', u'LBDEVAL', u'FTLDEVAL', u'NACCMMSE', u'WHODIDDX', u'DXMETHOD', u'NORMCOG', u'DEMENTED', u'NACCUDSD', u'AMNDEM', u'PCA', u'NACCPPA', u'NACCPPAG', u'NACCPPME', u'NACCBVFT', u'NACCLBDS', u'NAMNDEM', u'NACCTMCI', u'NACCMCIL', u'NACCMCIA', u'NACCMCIE', u'NACCMCIV', u'IMPNOMCI', u'AMYLPET', u'AMYLCSF', u'FDGAD', u'HIPPATR', u'TAUPETAD', u'CSFTAU', u'FDGFTLD', u'TPETFTLD', u'MRFTLD', u'DATSCAN', u'OTHBIOM', u'OTHBIOMX', u'IMAGLINF', u'IMAGLAC', u'IMAGMACH', u'IMAGMICH', u'IMAGMWMH', u'IMAGEWMH', u'OTHMUT', u'OTHMUTX', u'NACCALZD', u'NACCALZP', u'PROBAD', u'PROBADIF', u'POSSAD', u'POSSADIF', u'NACCLBDE', u'NACCLBDP', u'PARK', u'MSA', u'MSAIF', u'PSP', u'PSPIF', u'CORT', u'CORTIF', u'FTLDMO', u'FTLDMOIF', u'FTLDNOS', u'FTLDNOIF', u'FTD', u'FTDIF', u'PPAPH', u'PPAPHIF', u'FTLDSUBT', u'FTLDSUBX', u'CVD', u'CVDIF', u'PREVSTK', u'STROKDEC', u'STKIMAG', u'INFNETW', u'INFWMH', u'VASC', u'VASCIF', u'VASCPS', u'VASCPSIF', u'STROKE', u'STROKIF', u'ESSTREM', u'ESSTREIF', u'DOWNS', u'DOWNSIF', u'HUNT', u'HUNTIF', u'PRION', u'PRIONIF', u'BRNINJ', u'BRNINJIF', u'BRNINCTE', u'HYCEPH', u'HYCEPHIF', u'EPILEP', u'EPILEPIF', u'NEOP', u'NEOPIF', u'NEOPSTAT', u'HIV', u'HIVIF', u'OTHCOG', u'OTHCOGIF', u'OTHCOGX', u'DEP', u'DEPIF', u'DEPTREAT', u'BIPOLDX', u'BIPOLDIF', u'SCHIZOP', u'SCHIZOIF', u'ANXIET', u'ANXIETIF', u'DELIR', u'DELIRIF', u'PTSDDX', u'PTSDDXIF', u'OTHPSY', u'OTHPSYIF', u'OTHPSYX', u'ALCDEM', u'ALCDEMIF', u'ALCABUSE', u'IMPSUB', u'IMPSUBIF', u'DYSILL', u'DYSILLIF', u'MEDS', u'MEDSIF', u'DEMUN', u'DEMUNIF', u'COGOTH', u'COGOTHIF', u'COGOTHX', u'COGOTH2', u'COGOTH2F', u'COGOTH2X', u'COGOTH3', u'COGOTH3F', u'COGOTH3X', u'NACCNORM', u'NACCIDEM', u'NACCMCII', u'NACCADMU', u'NACCFTDM', u'NACCETPR', u'NACCAPOE', u'NACCNE4S', u'A1VISITMO', u'A1VISITDAY', u'A1VISITYR', u'NACCACTV', u'NACCNURP', u'NACCNRMO', u'NACCNRDY', u'NACCNRYR', u'NACCNOVS', u'NACCDSMO', u'NACCDSDY', u'NACCDSYR']\n"
     ]
    }
   ],
   "source": [
    "print list(data)"
   ]
  },
  {
   "cell_type": "code",
   "execution_count": 42,
   "metadata": {},
   "outputs": [
    {
     "name": "stdout",
     "output_type": "stream",
     "text": [
      "10320\n"
     ]
    }
   ],
   "source": [
    "print len(np.unique(data['NACCID']))"
   ]
  },
  {
   "cell_type": "code",
   "execution_count": 84,
   "metadata": {},
   "outputs": [
    {
     "name": "stdout",
     "output_type": "stream",
     "text": [
      "[  1.   2.   3.   4.   5.   6.   7.   8.   9.  10.]\n"
     ]
    }
   ],
   "source": [
    "print np.unique(data['NACCVNUM'])"
   ]
  },
  {
   "cell_type": "code",
   "execution_count": 54,
   "metadata": {},
   "outputs": [
    {
     "name": "stdout",
     "output_type": "stream",
     "text": [
      "132\n",
      "157\n"
     ]
    }
   ],
   "source": [
    "# print data.columns.get_loc('NPIQINF')\n",
    "# print data.columns.get_loc('APPSEV')\n",
    "\n",
    "## Subset NPI-Q data:\n",
    "NPI_df = data.iloc[:,132:158]"
   ]
  },
  {
   "cell_type": "code",
   "execution_count": 55,
   "metadata": {},
   "outputs": [
    {
     "data": {
      "text/plain": [
       "(31837, 26)"
      ]
     },
     "execution_count": 55,
     "metadata": {},
     "output_type": "execute_result"
    }
   ],
   "source": [
    "NPI_df.shape"
   ]
  },
  {
   "cell_type": "code",
   "execution_count": 56,
   "metadata": {},
   "outputs": [
    {
     "data": {
      "text/html": [
       "<div>\n",
       "<style scoped>\n",
       "    .dataframe tbody tr th:only-of-type {\n",
       "        vertical-align: middle;\n",
       "    }\n",
       "\n",
       "    .dataframe tbody tr th {\n",
       "        vertical-align: top;\n",
       "    }\n",
       "\n",
       "    .dataframe thead th {\n",
       "        text-align: right;\n",
       "    }\n",
       "</style>\n",
       "<table border=\"1\" class=\"dataframe\">\n",
       "  <thead>\n",
       "    <tr style=\"text-align: right;\">\n",
       "      <th></th>\n",
       "      <th>NPIQINF</th>\n",
       "      <th>NPIQINFX</th>\n",
       "      <th>DEL</th>\n",
       "      <th>DELSEV</th>\n",
       "      <th>HALL</th>\n",
       "      <th>HALLSEV</th>\n",
       "      <th>AGIT</th>\n",
       "      <th>AGITSEV</th>\n",
       "      <th>DEPD</th>\n",
       "      <th>DEPDSEV</th>\n",
       "      <th>...</th>\n",
       "      <th>DISN</th>\n",
       "      <th>DISNSEV</th>\n",
       "      <th>IRR</th>\n",
       "      <th>IRRSEV</th>\n",
       "      <th>MOT</th>\n",
       "      <th>MOTSEV</th>\n",
       "      <th>NITE</th>\n",
       "      <th>NITESEV</th>\n",
       "      <th>APP</th>\n",
       "      <th>APPSEV</th>\n",
       "    </tr>\n",
       "  </thead>\n",
       "  <tbody>\n",
       "    <tr>\n",
       "      <th>0</th>\n",
       "      <td>1.0</td>\n",
       "      <td>NaN</td>\n",
       "      <td>0.0</td>\n",
       "      <td>8.0</td>\n",
       "      <td>0.0</td>\n",
       "      <td>8.0</td>\n",
       "      <td>0.0</td>\n",
       "      <td>8.0</td>\n",
       "      <td>0.0</td>\n",
       "      <td>8.0</td>\n",
       "      <td>...</td>\n",
       "      <td>0.0</td>\n",
       "      <td>8.0</td>\n",
       "      <td>0.0</td>\n",
       "      <td>8.0</td>\n",
       "      <td>0.0</td>\n",
       "      <td>8.0</td>\n",
       "      <td>0.0</td>\n",
       "      <td>8.0</td>\n",
       "      <td>0.0</td>\n",
       "      <td>8.0</td>\n",
       "    </tr>\n",
       "    <tr>\n",
       "      <th>1</th>\n",
       "      <td>1.0</td>\n",
       "      <td>NaN</td>\n",
       "      <td>0.0</td>\n",
       "      <td>8.0</td>\n",
       "      <td>0.0</td>\n",
       "      <td>8.0</td>\n",
       "      <td>0.0</td>\n",
       "      <td>8.0</td>\n",
       "      <td>0.0</td>\n",
       "      <td>8.0</td>\n",
       "      <td>...</td>\n",
       "      <td>0.0</td>\n",
       "      <td>8.0</td>\n",
       "      <td>0.0</td>\n",
       "      <td>8.0</td>\n",
       "      <td>0.0</td>\n",
       "      <td>8.0</td>\n",
       "      <td>0.0</td>\n",
       "      <td>8.0</td>\n",
       "      <td>0.0</td>\n",
       "      <td>8.0</td>\n",
       "    </tr>\n",
       "    <tr>\n",
       "      <th>2</th>\n",
       "      <td>1.0</td>\n",
       "      <td>NaN</td>\n",
       "      <td>0.0</td>\n",
       "      <td>8.0</td>\n",
       "      <td>0.0</td>\n",
       "      <td>8.0</td>\n",
       "      <td>0.0</td>\n",
       "      <td>8.0</td>\n",
       "      <td>0.0</td>\n",
       "      <td>8.0</td>\n",
       "      <td>...</td>\n",
       "      <td>0.0</td>\n",
       "      <td>8.0</td>\n",
       "      <td>0.0</td>\n",
       "      <td>8.0</td>\n",
       "      <td>0.0</td>\n",
       "      <td>8.0</td>\n",
       "      <td>0.0</td>\n",
       "      <td>8.0</td>\n",
       "      <td>0.0</td>\n",
       "      <td>8.0</td>\n",
       "    </tr>\n",
       "    <tr>\n",
       "      <th>3</th>\n",
       "      <td>1.0</td>\n",
       "      <td>NaN</td>\n",
       "      <td>0.0</td>\n",
       "      <td>8.0</td>\n",
       "      <td>0.0</td>\n",
       "      <td>8.0</td>\n",
       "      <td>0.0</td>\n",
       "      <td>8.0</td>\n",
       "      <td>0.0</td>\n",
       "      <td>8.0</td>\n",
       "      <td>...</td>\n",
       "      <td>0.0</td>\n",
       "      <td>8.0</td>\n",
       "      <td>0.0</td>\n",
       "      <td>8.0</td>\n",
       "      <td>0.0</td>\n",
       "      <td>8.0</td>\n",
       "      <td>0.0</td>\n",
       "      <td>8.0</td>\n",
       "      <td>1.0</td>\n",
       "      <td>1.0</td>\n",
       "    </tr>\n",
       "    <tr>\n",
       "      <th>4</th>\n",
       "      <td>1.0</td>\n",
       "      <td>NaN</td>\n",
       "      <td>0.0</td>\n",
       "      <td>8.0</td>\n",
       "      <td>0.0</td>\n",
       "      <td>8.0</td>\n",
       "      <td>0.0</td>\n",
       "      <td>8.0</td>\n",
       "      <td>0.0</td>\n",
       "      <td>8.0</td>\n",
       "      <td>...</td>\n",
       "      <td>0.0</td>\n",
       "      <td>8.0</td>\n",
       "      <td>0.0</td>\n",
       "      <td>8.0</td>\n",
       "      <td>0.0</td>\n",
       "      <td>8.0</td>\n",
       "      <td>1.0</td>\n",
       "      <td>1.0</td>\n",
       "      <td>0.0</td>\n",
       "      <td>8.0</td>\n",
       "    </tr>\n",
       "    <tr>\n",
       "      <th>5</th>\n",
       "      <td>1.0</td>\n",
       "      <td>NaN</td>\n",
       "      <td>0.0</td>\n",
       "      <td>8.0</td>\n",
       "      <td>0.0</td>\n",
       "      <td>8.0</td>\n",
       "      <td>0.0</td>\n",
       "      <td>8.0</td>\n",
       "      <td>0.0</td>\n",
       "      <td>8.0</td>\n",
       "      <td>...</td>\n",
       "      <td>0.0</td>\n",
       "      <td>8.0</td>\n",
       "      <td>0.0</td>\n",
       "      <td>8.0</td>\n",
       "      <td>1.0</td>\n",
       "      <td>1.0</td>\n",
       "      <td>1.0</td>\n",
       "      <td>1.0</td>\n",
       "      <td>1.0</td>\n",
       "      <td>1.0</td>\n",
       "    </tr>\n",
       "    <tr>\n",
       "      <th>6</th>\n",
       "      <td>1.0</td>\n",
       "      <td>NaN</td>\n",
       "      <td>0.0</td>\n",
       "      <td>8.0</td>\n",
       "      <td>0.0</td>\n",
       "      <td>8.0</td>\n",
       "      <td>0.0</td>\n",
       "      <td>8.0</td>\n",
       "      <td>0.0</td>\n",
       "      <td>8.0</td>\n",
       "      <td>...</td>\n",
       "      <td>0.0</td>\n",
       "      <td>8.0</td>\n",
       "      <td>0.0</td>\n",
       "      <td>8.0</td>\n",
       "      <td>0.0</td>\n",
       "      <td>8.0</td>\n",
       "      <td>1.0</td>\n",
       "      <td>1.0</td>\n",
       "      <td>0.0</td>\n",
       "      <td>8.0</td>\n",
       "    </tr>\n",
       "    <tr>\n",
       "      <th>7</th>\n",
       "      <td>2.0</td>\n",
       "      <td>NaN</td>\n",
       "      <td>0.0</td>\n",
       "      <td>8.0</td>\n",
       "      <td>0.0</td>\n",
       "      <td>8.0</td>\n",
       "      <td>0.0</td>\n",
       "      <td>8.0</td>\n",
       "      <td>0.0</td>\n",
       "      <td>8.0</td>\n",
       "      <td>...</td>\n",
       "      <td>0.0</td>\n",
       "      <td>8.0</td>\n",
       "      <td>0.0</td>\n",
       "      <td>8.0</td>\n",
       "      <td>0.0</td>\n",
       "      <td>8.0</td>\n",
       "      <td>0.0</td>\n",
       "      <td>8.0</td>\n",
       "      <td>0.0</td>\n",
       "      <td>8.0</td>\n",
       "    </tr>\n",
       "    <tr>\n",
       "      <th>8</th>\n",
       "      <td>2.0</td>\n",
       "      <td>NaN</td>\n",
       "      <td>0.0</td>\n",
       "      <td>8.0</td>\n",
       "      <td>0.0</td>\n",
       "      <td>8.0</td>\n",
       "      <td>0.0</td>\n",
       "      <td>8.0</td>\n",
       "      <td>1.0</td>\n",
       "      <td>1.0</td>\n",
       "      <td>...</td>\n",
       "      <td>0.0</td>\n",
       "      <td>8.0</td>\n",
       "      <td>1.0</td>\n",
       "      <td>2.0</td>\n",
       "      <td>0.0</td>\n",
       "      <td>8.0</td>\n",
       "      <td>0.0</td>\n",
       "      <td>8.0</td>\n",
       "      <td>0.0</td>\n",
       "      <td>8.0</td>\n",
       "    </tr>\n",
       "    <tr>\n",
       "      <th>9</th>\n",
       "      <td>-4.0</td>\n",
       "      <td>NaN</td>\n",
       "      <td>-4.0</td>\n",
       "      <td>-4.0</td>\n",
       "      <td>-4.0</td>\n",
       "      <td>-4.0</td>\n",
       "      <td>-4.0</td>\n",
       "      <td>-4.0</td>\n",
       "      <td>-4.0</td>\n",
       "      <td>-4.0</td>\n",
       "      <td>...</td>\n",
       "      <td>-4.0</td>\n",
       "      <td>-4.0</td>\n",
       "      <td>-4.0</td>\n",
       "      <td>-4.0</td>\n",
       "      <td>-4.0</td>\n",
       "      <td>-4.0</td>\n",
       "      <td>-4.0</td>\n",
       "      <td>-4.0</td>\n",
       "      <td>-4.0</td>\n",
       "      <td>-4.0</td>\n",
       "    </tr>\n",
       "    <tr>\n",
       "      <th>10</th>\n",
       "      <td>-4.0</td>\n",
       "      <td>NaN</td>\n",
       "      <td>-4.0</td>\n",
       "      <td>-4.0</td>\n",
       "      <td>-4.0</td>\n",
       "      <td>-4.0</td>\n",
       "      <td>-4.0</td>\n",
       "      <td>-4.0</td>\n",
       "      <td>-4.0</td>\n",
       "      <td>-4.0</td>\n",
       "      <td>...</td>\n",
       "      <td>-4.0</td>\n",
       "      <td>-4.0</td>\n",
       "      <td>-4.0</td>\n",
       "      <td>-4.0</td>\n",
       "      <td>-4.0</td>\n",
       "      <td>-4.0</td>\n",
       "      <td>-4.0</td>\n",
       "      <td>-4.0</td>\n",
       "      <td>-4.0</td>\n",
       "      <td>-4.0</td>\n",
       "    </tr>\n",
       "    <tr>\n",
       "      <th>11</th>\n",
       "      <td>1.0</td>\n",
       "      <td>NaN</td>\n",
       "      <td>0.0</td>\n",
       "      <td>8.0</td>\n",
       "      <td>0.0</td>\n",
       "      <td>8.0</td>\n",
       "      <td>0.0</td>\n",
       "      <td>8.0</td>\n",
       "      <td>0.0</td>\n",
       "      <td>8.0</td>\n",
       "      <td>...</td>\n",
       "      <td>0.0</td>\n",
       "      <td>8.0</td>\n",
       "      <td>0.0</td>\n",
       "      <td>8.0</td>\n",
       "      <td>0.0</td>\n",
       "      <td>8.0</td>\n",
       "      <td>0.0</td>\n",
       "      <td>8.0</td>\n",
       "      <td>0.0</td>\n",
       "      <td>8.0</td>\n",
       "    </tr>\n",
       "    <tr>\n",
       "      <th>12</th>\n",
       "      <td>1.0</td>\n",
       "      <td>NaN</td>\n",
       "      <td>0.0</td>\n",
       "      <td>8.0</td>\n",
       "      <td>0.0</td>\n",
       "      <td>8.0</td>\n",
       "      <td>1.0</td>\n",
       "      <td>1.0</td>\n",
       "      <td>1.0</td>\n",
       "      <td>1.0</td>\n",
       "      <td>...</td>\n",
       "      <td>0.0</td>\n",
       "      <td>8.0</td>\n",
       "      <td>1.0</td>\n",
       "      <td>2.0</td>\n",
       "      <td>0.0</td>\n",
       "      <td>8.0</td>\n",
       "      <td>0.0</td>\n",
       "      <td>8.0</td>\n",
       "      <td>0.0</td>\n",
       "      <td>8.0</td>\n",
       "    </tr>\n",
       "    <tr>\n",
       "      <th>13</th>\n",
       "      <td>1.0</td>\n",
       "      <td>NaN</td>\n",
       "      <td>0.0</td>\n",
       "      <td>8.0</td>\n",
       "      <td>0.0</td>\n",
       "      <td>8.0</td>\n",
       "      <td>0.0</td>\n",
       "      <td>8.0</td>\n",
       "      <td>0.0</td>\n",
       "      <td>8.0</td>\n",
       "      <td>...</td>\n",
       "      <td>0.0</td>\n",
       "      <td>8.0</td>\n",
       "      <td>0.0</td>\n",
       "      <td>8.0</td>\n",
       "      <td>0.0</td>\n",
       "      <td>8.0</td>\n",
       "      <td>0.0</td>\n",
       "      <td>8.0</td>\n",
       "      <td>0.0</td>\n",
       "      <td>8.0</td>\n",
       "    </tr>\n",
       "    <tr>\n",
       "      <th>14</th>\n",
       "      <td>1.0</td>\n",
       "      <td>NaN</td>\n",
       "      <td>0.0</td>\n",
       "      <td>8.0</td>\n",
       "      <td>0.0</td>\n",
       "      <td>8.0</td>\n",
       "      <td>0.0</td>\n",
       "      <td>8.0</td>\n",
       "      <td>1.0</td>\n",
       "      <td>1.0</td>\n",
       "      <td>...</td>\n",
       "      <td>0.0</td>\n",
       "      <td>8.0</td>\n",
       "      <td>1.0</td>\n",
       "      <td>1.0</td>\n",
       "      <td>0.0</td>\n",
       "      <td>8.0</td>\n",
       "      <td>0.0</td>\n",
       "      <td>8.0</td>\n",
       "      <td>0.0</td>\n",
       "      <td>8.0</td>\n",
       "    </tr>\n",
       "    <tr>\n",
       "      <th>15</th>\n",
       "      <td>1.0</td>\n",
       "      <td>NaN</td>\n",
       "      <td>0.0</td>\n",
       "      <td>8.0</td>\n",
       "      <td>0.0</td>\n",
       "      <td>8.0</td>\n",
       "      <td>1.0</td>\n",
       "      <td>2.0</td>\n",
       "      <td>1.0</td>\n",
       "      <td>2.0</td>\n",
       "      <td>...</td>\n",
       "      <td>0.0</td>\n",
       "      <td>8.0</td>\n",
       "      <td>1.0</td>\n",
       "      <td>2.0</td>\n",
       "      <td>1.0</td>\n",
       "      <td>1.0</td>\n",
       "      <td>0.0</td>\n",
       "      <td>8.0</td>\n",
       "      <td>1.0</td>\n",
       "      <td>2.0</td>\n",
       "    </tr>\n",
       "    <tr>\n",
       "      <th>16</th>\n",
       "      <td>2.0</td>\n",
       "      <td>NaN</td>\n",
       "      <td>0.0</td>\n",
       "      <td>8.0</td>\n",
       "      <td>0.0</td>\n",
       "      <td>8.0</td>\n",
       "      <td>1.0</td>\n",
       "      <td>1.0</td>\n",
       "      <td>0.0</td>\n",
       "      <td>8.0</td>\n",
       "      <td>...</td>\n",
       "      <td>0.0</td>\n",
       "      <td>8.0</td>\n",
       "      <td>1.0</td>\n",
       "      <td>2.0</td>\n",
       "      <td>0.0</td>\n",
       "      <td>8.0</td>\n",
       "      <td>0.0</td>\n",
       "      <td>8.0</td>\n",
       "      <td>0.0</td>\n",
       "      <td>8.0</td>\n",
       "    </tr>\n",
       "    <tr>\n",
       "      <th>17</th>\n",
       "      <td>2.0</td>\n",
       "      <td>NaN</td>\n",
       "      <td>1.0</td>\n",
       "      <td>2.0</td>\n",
       "      <td>0.0</td>\n",
       "      <td>8.0</td>\n",
       "      <td>1.0</td>\n",
       "      <td>3.0</td>\n",
       "      <td>0.0</td>\n",
       "      <td>8.0</td>\n",
       "      <td>...</td>\n",
       "      <td>1.0</td>\n",
       "      <td>1.0</td>\n",
       "      <td>1.0</td>\n",
       "      <td>3.0</td>\n",
       "      <td>0.0</td>\n",
       "      <td>8.0</td>\n",
       "      <td>1.0</td>\n",
       "      <td>1.0</td>\n",
       "      <td>0.0</td>\n",
       "      <td>8.0</td>\n",
       "    </tr>\n",
       "    <tr>\n",
       "      <th>18</th>\n",
       "      <td>-4.0</td>\n",
       "      <td>NaN</td>\n",
       "      <td>-4.0</td>\n",
       "      <td>-4.0</td>\n",
       "      <td>-4.0</td>\n",
       "      <td>-4.0</td>\n",
       "      <td>-4.0</td>\n",
       "      <td>-4.0</td>\n",
       "      <td>-4.0</td>\n",
       "      <td>-4.0</td>\n",
       "      <td>...</td>\n",
       "      <td>-4.0</td>\n",
       "      <td>-4.0</td>\n",
       "      <td>-4.0</td>\n",
       "      <td>-4.0</td>\n",
       "      <td>-4.0</td>\n",
       "      <td>-4.0</td>\n",
       "      <td>-4.0</td>\n",
       "      <td>-4.0</td>\n",
       "      <td>-4.0</td>\n",
       "      <td>-4.0</td>\n",
       "    </tr>\n",
       "    <tr>\n",
       "      <th>19</th>\n",
       "      <td>1.0</td>\n",
       "      <td>NaN</td>\n",
       "      <td>0.0</td>\n",
       "      <td>8.0</td>\n",
       "      <td>0.0</td>\n",
       "      <td>8.0</td>\n",
       "      <td>1.0</td>\n",
       "      <td>2.0</td>\n",
       "      <td>0.0</td>\n",
       "      <td>8.0</td>\n",
       "      <td>...</td>\n",
       "      <td>1.0</td>\n",
       "      <td>1.0</td>\n",
       "      <td>0.0</td>\n",
       "      <td>8.0</td>\n",
       "      <td>0.0</td>\n",
       "      <td>8.0</td>\n",
       "      <td>0.0</td>\n",
       "      <td>8.0</td>\n",
       "      <td>1.0</td>\n",
       "      <td>2.0</td>\n",
       "    </tr>\n",
       "  </tbody>\n",
       "</table>\n",
       "<p>20 rows × 26 columns</p>\n",
       "</div>"
      ],
      "text/plain": [
       "    NPIQINF NPIQINFX  DEL  DELSEV  HALL  HALLSEV  AGIT  AGITSEV  DEPD  \\\n",
       "0       1.0      NaN  0.0     8.0   0.0      8.0   0.0      8.0   0.0   \n",
       "1       1.0      NaN  0.0     8.0   0.0      8.0   0.0      8.0   0.0   \n",
       "2       1.0      NaN  0.0     8.0   0.0      8.0   0.0      8.0   0.0   \n",
       "3       1.0      NaN  0.0     8.0   0.0      8.0   0.0      8.0   0.0   \n",
       "4       1.0      NaN  0.0     8.0   0.0      8.0   0.0      8.0   0.0   \n",
       "5       1.0      NaN  0.0     8.0   0.0      8.0   0.0      8.0   0.0   \n",
       "6       1.0      NaN  0.0     8.0   0.0      8.0   0.0      8.0   0.0   \n",
       "7       2.0      NaN  0.0     8.0   0.0      8.0   0.0      8.0   0.0   \n",
       "8       2.0      NaN  0.0     8.0   0.0      8.0   0.0      8.0   1.0   \n",
       "9      -4.0      NaN -4.0    -4.0  -4.0     -4.0  -4.0     -4.0  -4.0   \n",
       "10     -4.0      NaN -4.0    -4.0  -4.0     -4.0  -4.0     -4.0  -4.0   \n",
       "11      1.0      NaN  0.0     8.0   0.0      8.0   0.0      8.0   0.0   \n",
       "12      1.0      NaN  0.0     8.0   0.0      8.0   1.0      1.0   1.0   \n",
       "13      1.0      NaN  0.0     8.0   0.0      8.0   0.0      8.0   0.0   \n",
       "14      1.0      NaN  0.0     8.0   0.0      8.0   0.0      8.0   1.0   \n",
       "15      1.0      NaN  0.0     8.0   0.0      8.0   1.0      2.0   1.0   \n",
       "16      2.0      NaN  0.0     8.0   0.0      8.0   1.0      1.0   0.0   \n",
       "17      2.0      NaN  1.0     2.0   0.0      8.0   1.0      3.0   0.0   \n",
       "18     -4.0      NaN -4.0    -4.0  -4.0     -4.0  -4.0     -4.0  -4.0   \n",
       "19      1.0      NaN  0.0     8.0   0.0      8.0   1.0      2.0   0.0   \n",
       "\n",
       "    DEPDSEV   ...    DISN  DISNSEV  IRR  IRRSEV  MOT  MOTSEV  NITE  NITESEV  \\\n",
       "0       8.0   ...     0.0      8.0  0.0     8.0  0.0     8.0   0.0      8.0   \n",
       "1       8.0   ...     0.0      8.0  0.0     8.0  0.0     8.0   0.0      8.0   \n",
       "2       8.0   ...     0.0      8.0  0.0     8.0  0.0     8.0   0.0      8.0   \n",
       "3       8.0   ...     0.0      8.0  0.0     8.0  0.0     8.0   0.0      8.0   \n",
       "4       8.0   ...     0.0      8.0  0.0     8.0  0.0     8.0   1.0      1.0   \n",
       "5       8.0   ...     0.0      8.0  0.0     8.0  1.0     1.0   1.0      1.0   \n",
       "6       8.0   ...     0.0      8.0  0.0     8.0  0.0     8.0   1.0      1.0   \n",
       "7       8.0   ...     0.0      8.0  0.0     8.0  0.0     8.0   0.0      8.0   \n",
       "8       1.0   ...     0.0      8.0  1.0     2.0  0.0     8.0   0.0      8.0   \n",
       "9      -4.0   ...    -4.0     -4.0 -4.0    -4.0 -4.0    -4.0  -4.0     -4.0   \n",
       "10     -4.0   ...    -4.0     -4.0 -4.0    -4.0 -4.0    -4.0  -4.0     -4.0   \n",
       "11      8.0   ...     0.0      8.0  0.0     8.0  0.0     8.0   0.0      8.0   \n",
       "12      1.0   ...     0.0      8.0  1.0     2.0  0.0     8.0   0.0      8.0   \n",
       "13      8.0   ...     0.0      8.0  0.0     8.0  0.0     8.0   0.0      8.0   \n",
       "14      1.0   ...     0.0      8.0  1.0     1.0  0.0     8.0   0.0      8.0   \n",
       "15      2.0   ...     0.0      8.0  1.0     2.0  1.0     1.0   0.0      8.0   \n",
       "16      8.0   ...     0.0      8.0  1.0     2.0  0.0     8.0   0.0      8.0   \n",
       "17      8.0   ...     1.0      1.0  1.0     3.0  0.0     8.0   1.0      1.0   \n",
       "18     -4.0   ...    -4.0     -4.0 -4.0    -4.0 -4.0    -4.0  -4.0     -4.0   \n",
       "19      8.0   ...     1.0      1.0  0.0     8.0  0.0     8.0   0.0      8.0   \n",
       "\n",
       "    APP  APPSEV  \n",
       "0   0.0     8.0  \n",
       "1   0.0     8.0  \n",
       "2   0.0     8.0  \n",
       "3   1.0     1.0  \n",
       "4   0.0     8.0  \n",
       "5   1.0     1.0  \n",
       "6   0.0     8.0  \n",
       "7   0.0     8.0  \n",
       "8   0.0     8.0  \n",
       "9  -4.0    -4.0  \n",
       "10 -4.0    -4.0  \n",
       "11  0.0     8.0  \n",
       "12  0.0     8.0  \n",
       "13  0.0     8.0  \n",
       "14  0.0     8.0  \n",
       "15  1.0     2.0  \n",
       "16  0.0     8.0  \n",
       "17  0.0     8.0  \n",
       "18 -4.0    -4.0  \n",
       "19  1.0     2.0  \n",
       "\n",
       "[20 rows x 26 columns]"
      ]
     },
     "execution_count": 56,
     "metadata": {},
     "output_type": "execute_result"
    }
   ],
   "source": [
    "NPI_df[:20]"
   ]
  },
  {
   "cell_type": "code",
   "execution_count": 63,
   "metadata": {},
   "outputs": [
    {
     "name": "stdout",
     "output_type": "stream",
     "text": [
      "Counter({8.0: 26046, 1.0: 2596, 2.0: 1497, -4.0: 1053, 3.0: 645})\n",
      "Counter({8.0: 28198, 1.0: 1487, -4.0: 1053, 2.0: 749, 3.0: 350})\n",
      "Counter({8.0: 20097, 1.0: 6061, 2.0: 3511, 3.0: 1114, -4.0: 1053, 9.0: 1})\n"
     ]
    }
   ],
   "source": [
    "print collections.Counter(data['DELSEV'].values)\n",
    "print collections.Counter(data['HALLSEV'].values)\n",
    "print collections.Counter(data['AGITSEV'].values)"
   ]
  },
  {
   "cell_type": "code",
   "execution_count": 64,
   "metadata": {},
   "outputs": [
    {
     "data": {
      "text/plain": [
       "array([ -4.,   1.,   2.,   3.,   4.,   5.,  50.,  99.])"
      ]
     },
     "execution_count": 64,
     "metadata": {},
     "output_type": "execute_result"
    }
   ],
   "source": [
    "np.unique(data['INRACE']) ## 5:Asain"
   ]
  },
  {
   "cell_type": "code",
   "execution_count": 85,
   "metadata": {},
   "outputs": [
    {
     "name": "stdout",
     "output_type": "stream",
     "text": [
      "# of cases with Asian informants: 231\n",
      "# of cases with Non-Asian informants: 31606\n"
     ]
    }
   ],
   "source": [
    "print '# of cases with Asian informants:', np.shape(data['NACCID'][data['INRACE'] == 5])[0]\n",
    "print '# of cases with Non-Asian informants:', np.shape(data['NACCID'][data['INRACE'] != 5])[0]"
   ]
  },
  {
   "cell_type": "code",
   "execution_count": 82,
   "metadata": {},
   "outputs": [
    {
     "name": "stdout",
     "output_type": "stream",
     "text": [
      "# of Asian patients: 196\n",
      "# of patients with Asian informants: 219\n"
     ]
    }
   ],
   "source": [
    "print '# of Asian patients:', np.shape(np.unique(data['NACCID'][data['RACE'] == 5]))[0]\n",
    "print '# of patients with Asian informants:', np.shape(np.unique(data['NACCID'][data['INRACE'] == 5]))[0]"
   ]
  },
  {
   "cell_type": "code",
   "execution_count": 69,
   "metadata": {},
   "outputs": [
    {
     "data": {
      "text/plain": [
       "Counter({-4.0: 4, 1.0: 23, 2.0: 16, 3.0: 8, 8.0: 180})"
      ]
     },
     "execution_count": 69,
     "metadata": {},
     "output_type": "execute_result"
    }
   ],
   "source": [
    "## Asian DELSEV (delusions severity):\n",
    "A_DELSEV = data['DELSEV'][data['INRACE'] == 5]\n",
    "collections.Counter(A_DELSEV.values)"
   ]
  },
  {
   "cell_type": "code",
   "execution_count": null,
   "metadata": {
    "collapsed": true
   },
   "outputs": [],
   "source": []
  },
  {
   "cell_type": "code",
   "execution_count": 71,
   "metadata": {},
   "outputs": [
    {
     "data": {
      "text/plain": [
       "Counter({-4.0: 1049, 1.0: 2573, 2.0: 1481, 3.0: 637, 8.0: 25866})"
      ]
     },
     "execution_count": 71,
     "metadata": {},
     "output_type": "execute_result"
    }
   ],
   "source": [
    "## Non-Asian DELSEV:\n",
    "NA_DELSEV = data['DELSEV'][data['INRACE'] != 5]\n",
    "collections.Counter(NA_DELSEV.values)"
   ]
  },
  {
   "cell_type": "code",
   "execution_count": 75,
   "metadata": {},
   "outputs": [
    {
     "data": {
      "text/plain": [
       "Counter({-4.0: 4, 1.0: 10, 2.0: 4, 3.0: 2, 8.0: 211})"
      ]
     },
     "execution_count": 75,
     "metadata": {},
     "output_type": "execute_result"
    }
   ],
   "source": [
    "## Asian HALLSEV (hallucinations severity):\n",
    "A_HALLSEV = data['HALLSEV'][data['INRACE'] == 5]\n",
    "collections.Counter(A_HALLSEV.values)"
   ]
  },
  {
   "cell_type": "code",
   "execution_count": 76,
   "metadata": {},
   "outputs": [
    {
     "data": {
      "text/plain": [
       "Counter({-4.0: 1049, 1.0: 1477, 2.0: 745, 3.0: 348, 8.0: 27987})"
      ]
     },
     "execution_count": 76,
     "metadata": {},
     "output_type": "execute_result"
    }
   ],
   "source": [
    "## Non-Asian HALLSEV (hallucinations severity):\n",
    "NA_HALLSEV = data['HALLSEV'][data['INRACE'] != 5]\n",
    "collections.Counter(NA_HALLSEV.values)"
   ]
  },
  {
   "cell_type": "code",
   "execution_count": 77,
   "metadata": {},
   "outputs": [
    {
     "data": {
      "text/plain": [
       "Counter({-4.0: 4, 1.0: 47, 2.0: 24, 3.0: 14, 8.0: 142})"
      ]
     },
     "execution_count": 77,
     "metadata": {},
     "output_type": "execute_result"
    }
   ],
   "source": [
    "## Asian AGITSEV (Agitation or aggression severity):\n",
    "A_AGITSEV = data['AGITSEV'][data['INRACE'] == 5]\n",
    "collections.Counter(A_AGITSEV.values)"
   ]
  },
  {
   "cell_type": "code",
   "execution_count": 78,
   "metadata": {},
   "outputs": [
    {
     "data": {
      "text/plain": [
       "Counter({-4.0: 1049, 1.0: 6014, 2.0: 3487, 3.0: 1100, 8.0: 19955, 9.0: 1})"
      ]
     },
     "execution_count": 78,
     "metadata": {},
     "output_type": "execute_result"
    }
   ],
   "source": [
    "## Non-Asian AGITSEV (Agitation or aggression severity):\n",
    "NA_AGITSEV = data['AGITSEV'][data['INRACE'] != 5]\n",
    "collections.Counter(NA_AGITSEV.values)"
   ]
  },
  {
   "cell_type": "code",
   "execution_count": null,
   "metadata": {
    "collapsed": true
   },
   "outputs": [],
   "source": []
  }
 ],
 "metadata": {
  "kernelspec": {
   "display_name": "Python 2",
   "language": "python",
   "name": "python2"
  },
  "language_info": {
   "codemirror_mode": {
    "name": "ipython",
    "version": 2
   },
   "file_extension": ".py",
   "mimetype": "text/x-python",
   "name": "python",
   "nbconvert_exporter": "python",
   "pygments_lexer": "ipython2",
   "version": "2.7.13"
  }
 },
 "nbformat": 4,
 "nbformat_minor": 2
}
